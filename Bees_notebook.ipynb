{
 "cells": [
  {
   "cell_type": "code",
   "execution_count": null,
   "metadata": {},
   "outputs": [],
   "source": [
    "#If you run the cells in the pc\n",
    "pip install pandas"
   ]
  },
  {
   "cell_type": "code",
   "execution_count": null,
   "metadata": {},
   "outputs": [],
   "source": [
    "import pandas as pd\n",
    "#Use the path of file \"Bees.csv\"\n",
    "df = pd.read_csv(\"Bees.csv\")\n",
    "df"
   ]
  },
  {
   "cell_type": "code",
   "execution_count": null,
   "metadata": {},
   "outputs": [],
   "source": [
    "# Print the summary statistics\n",
    "print(df.describe())"
   ]
  },
  {
   "cell_type": "code",
   "execution_count": null,
   "metadata": {},
   "outputs": [],
   "source": [
    "# Print the type of the data \n",
    "print(df.dtypes)\n",
    "df.dtypes.value_counts()"
   ]
  },
  {
   "cell_type": "code",
   "execution_count": null,
   "metadata": {},
   "outputs": [],
   "source": [
    "# Check how many values are missing in the category_desc column\n",
    "print(df.isnull().sum\n",
    "print(df.notnull().sum())"
   ]
  },
  {
   "cell_type": "code",
   "execution_count": null,
   "metadata": {},
   "outputs": [],
   "source": [
    "#Eliminamos las columnas que no contienen datos utiles para el mmodelo en este caso solo datos nulos.\n",
    "df = df.drop([\"specialized_on\",\"status\"], axis=1)"
   ]
  },
  {
   "cell_type": "code",
   "execution_count": null,
   "metadata": {},
   "outputs": [],
   "source": [
    "#Verify the null values in the df\n",
    "print(df.isna().sum())"
   ]
  },
  {
   "cell_type": "code",
   "execution_count": null,
   "metadata": {},
   "outputs": [],
   "source": [
    "#Cambiaremos las columnas de tipo objeto a bool\n",
    "\n",
    "# Convertir las columnas de objeto a bool i luego a int\n",
    "columnas_a_convertir = [\"parasitic\", \"nonnative_bee\"]\n",
    "df[columnas_a_convertir] = df[columnas_a_convertir].astype(bool)\n",
    "df[columnas_a_convertir] = df[columnas_a_convertir].astype(int)"
   ]
  },
  {
   "cell_type": "code",
   "execution_count": null,
   "metadata": {},
   "outputs": [],
   "source": [
    "#The columns [\"parasitic\", \"nesting\", \"nonnative_bee\"] must replace the null values with imputation\n",
    "from sklearn.impute import SimpleImputer\n",
    "\n",
    "# Crear una instancia de SimpleImputer\n",
    "imputer = SimpleImputer(strategy='constant', fill_value=0)\n",
    "\n",
    "# Especificar las columnas que deseas tratar\n",
    "columnas_a_tratar = [\"parasitic\", \"nonnative_bee\"]\n",
    "\n",
    "# Reemplazar los valores nulos en las columnas seleccionadas\n",
    "df[columnas_a_tratar ] = imputer.fit_transform(df[columnas_a_tratar])"
   ]
  },
  {
   "cell_type": "code",
   "execution_count": null,
   "metadata": {},
   "outputs": [],
   "source": [
    "#The columns [\"nesting\"] with categorical \n",
    "from sklearn.impute import SimpleImputer\n",
    "\n",
    "# Crear una instancia de SimpleImputer\n",
    "imputer = SimpleImputer(strategy='most_frequent')\n",
    "\n",
    "# Especificar las columnas que deseas tratar\n",
    "columnas_a_tratar = [\"nesting\"]\n",
    "\n",
    "# Reemplazar los valores nulos en las columnas seleccionadas\n",
    "df[columnas_a_tratar] = imputer.fit_transform(df[columnas_a_tratar])"
   ]
  },
  {
   "cell_type": "code",
   "execution_count": null,
   "metadata": {},
   "outputs": [],
   "source": [
    "# Convert sex to a binary feature for more facility to model\n",
    "df['sex'] = df['sex'].map({'f': 0, 'm': 1})"
   ]
  },
  {
   "cell_type": "code",
   "execution_count": null,
   "metadata": {},
   "outputs": [],
   "source": [
    "# Al parecer varias columnas pueden volverse dummies [Non_native, season y sampling method]\n",
    "df[\"______\"].unique()"
   ]
  }
 ],
 "metadata": {
  "kernelspec": {
   "display_name": "Python 3",
   "language": "python",
   "name": "python3"
  },
  "language_info": {
   "codemirror_mode": {
    "name": "ipython",
    "version": 3
   },
   "file_extension": ".py",
   "mimetype": "text/x-python",
   "name": "python",
   "nbconvert_exporter": "python",
   "pygments_lexer": "ipython3",
   "version": "3.10.4"
  },
  "orig_nbformat": 4
 },
 "nbformat": 4,
 "nbformat_minor": 2
}
